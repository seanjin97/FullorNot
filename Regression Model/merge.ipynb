{
 "cells": [
  {
   "cell_type": "code",
   "execution_count": 158,
   "metadata": {},
   "outputs": [],
   "source": [
    "import pandas as pd"
   ]
  },
  {
   "cell_type": "code",
   "execution_count": 179,
   "metadata": {},
   "outputs": [],
   "source": [
    "df1 = pd.read_csv(\"df_B1.csv\")\n",
    "df2 = pd.read_csv(\"df_L2OE.csv\")\n",
    "df3 = pd.read_csv(\"df_L2SR.csv\")\n",
    "df4 = pd.read_csv(\"df_L2SR2_4.csv\")\n",
    "df5 = pd.read_csv(\"df_L3GSR3_5.csv\")\n",
    "df6 = pd.read_csv(\"df_L3OE.csv\")\n",
    "df7 = pd.read_csv(\"df_L3SR.csv\")\n",
    "df8 = pd.read_csv(\"df_L4C.csv\")\n",
    "df9 = pd.read_csv(\"df_L4L.csv\")\n",
    "df10 = pd.read_csv(\"df_L5C.csv\")\n",
    "df11 = pd.read_csv(\"df_L5O.csv\")"
   ]
  },
  {
   "cell_type": "code",
   "execution_count": 180,
   "metadata": {},
   "outputs": [
    {
     "data": {
      "text/html": [
       "<div>\n",
       "<style scoped>\n",
       "    .dataframe tbody tr th:only-of-type {\n",
       "        vertical-align: middle;\n",
       "    }\n",
       "\n",
       "    .dataframe tbody tr th {\n",
       "        vertical-align: top;\n",
       "    }\n",
       "\n",
       "    .dataframe thead th {\n",
       "        text-align: right;\n",
       "    }\n",
       "</style>\n",
       "<table border=\"1\" class=\"dataframe\">\n",
       "  <thead>\n",
       "    <tr style=\"text-align: right;\">\n",
       "      <th></th>\n",
       "      <th>date</th>\n",
       "      <th>time</th>\n",
       "      <th>count</th>\n",
       "      <th>bin</th>\n",
       "      <th>Location (recode)</th>\n",
       "      <th>Location-id (recode)</th>\n",
       "    </tr>\n",
       "  </thead>\n",
       "  <tbody>\n",
       "    <tr>\n",
       "      <th>0</th>\n",
       "      <td>27</td>\n",
       "      <td>0:09:51</td>\n",
       "      <td>1</td>\n",
       "      <td>1</td>\n",
       "      <td>SIS B1 IS Lounge</td>\n",
       "      <td>SISB1</td>\n",
       "    </tr>\n",
       "    <tr>\n",
       "      <th>1</th>\n",
       "      <td>27</td>\n",
       "      <td>0:12:13</td>\n",
       "      <td>2</td>\n",
       "      <td>2</td>\n",
       "      <td>SIS B1 IS Lounge</td>\n",
       "      <td>SISB1</td>\n",
       "    </tr>\n",
       "    <tr>\n",
       "      <th>2</th>\n",
       "      <td>27</td>\n",
       "      <td>0:14:34</td>\n",
       "      <td>3</td>\n",
       "      <td>2</td>\n",
       "      <td>SIS B1 IS Lounge</td>\n",
       "      <td>SISB1</td>\n",
       "    </tr>\n",
       "    <tr>\n",
       "      <th>3</th>\n",
       "      <td>27</td>\n",
       "      <td>0:16:56</td>\n",
       "      <td>1</td>\n",
       "      <td>2</td>\n",
       "      <td>SIS B1 IS Lounge</td>\n",
       "      <td>SISB1</td>\n",
       "    </tr>\n",
       "    <tr>\n",
       "      <th>4</th>\n",
       "      <td>27</td>\n",
       "      <td>0:19:17</td>\n",
       "      <td>1</td>\n",
       "      <td>2</td>\n",
       "      <td>SIS B1 IS Lounge</td>\n",
       "      <td>SISB1</td>\n",
       "    </tr>\n",
       "    <tr>\n",
       "      <th>...</th>\n",
       "      <td>...</td>\n",
       "      <td>...</td>\n",
       "      <td>...</td>\n",
       "      <td>...</td>\n",
       "      <td>...</td>\n",
       "      <td>...</td>\n",
       "    </tr>\n",
       "    <tr>\n",
       "      <th>569</th>\n",
       "      <td>27</td>\n",
       "      <td>23:49:56</td>\n",
       "      <td>2</td>\n",
       "      <td>143</td>\n",
       "      <td>SIS B1 IS Lounge</td>\n",
       "      <td>SISB1</td>\n",
       "    </tr>\n",
       "    <tr>\n",
       "      <th>570</th>\n",
       "      <td>27</td>\n",
       "      <td>23:52:02</td>\n",
       "      <td>1</td>\n",
       "      <td>144</td>\n",
       "      <td>SIS B1 IS Lounge</td>\n",
       "      <td>SISB1</td>\n",
       "    </tr>\n",
       "    <tr>\n",
       "      <th>571</th>\n",
       "      <td>27</td>\n",
       "      <td>23:54:08</td>\n",
       "      <td>1</td>\n",
       "      <td>144</td>\n",
       "      <td>SIS B1 IS Lounge</td>\n",
       "      <td>SISB1</td>\n",
       "    </tr>\n",
       "    <tr>\n",
       "      <th>572</th>\n",
       "      <td>27</td>\n",
       "      <td>23:56:13</td>\n",
       "      <td>1</td>\n",
       "      <td>144</td>\n",
       "      <td>SIS B1 IS Lounge</td>\n",
       "      <td>SISB1</td>\n",
       "    </tr>\n",
       "    <tr>\n",
       "      <th>573</th>\n",
       "      <td>27</td>\n",
       "      <td>23:58:19</td>\n",
       "      <td>1</td>\n",
       "      <td>144</td>\n",
       "      <td>SIS B1 IS Lounge</td>\n",
       "      <td>SISB1</td>\n",
       "    </tr>\n",
       "  </tbody>\n",
       "</table>\n",
       "<p>574 rows × 6 columns</p>\n",
       "</div>"
      ],
      "text/plain": [
       "     date      time  count  bin Location (recode) Location-id (recode)\n",
       "0      27   0:09:51      1    1  SIS B1 IS Lounge                SISB1\n",
       "1      27   0:12:13      2    2  SIS B1 IS Lounge                SISB1\n",
       "2      27   0:14:34      3    2  SIS B1 IS Lounge                SISB1\n",
       "3      27   0:16:56      1    2  SIS B1 IS Lounge                SISB1\n",
       "4      27   0:19:17      1    2  SIS B1 IS Lounge                SISB1\n",
       "..    ...       ...    ...  ...               ...                  ...\n",
       "569    27  23:49:56      2  143  SIS B1 IS Lounge                SISB1\n",
       "570    27  23:52:02      1  144  SIS B1 IS Lounge                SISB1\n",
       "571    27  23:54:08      1  144  SIS B1 IS Lounge                SISB1\n",
       "572    27  23:56:13      1  144  SIS B1 IS Lounge                SISB1\n",
       "573    27  23:58:19      1  144  SIS B1 IS Lounge                SISB1\n",
       "\n",
       "[574 rows x 6 columns]"
      ]
     },
     "execution_count": 180,
     "metadata": {},
     "output_type": "execute_result"
    }
   ],
   "source": [
    "df1 = pd.read_csv(\"df_B1.csv\")\n",
    "df1"
   ]
  },
  {
   "cell_type": "code",
   "execution_count": 181,
   "metadata": {},
   "outputs": [
    {
     "name": "stdout",
     "output_type": "stream",
     "text": [
      "(574, 6)\n"
     ]
    }
   ],
   "source": [
    "df_list = [df2, df3, df4, df5, df6, df7, df8, df9, df10, df11]\n",
    "print(df1.shape)"
   ]
  },
  {
   "cell_type": "code",
   "execution_count": 182,
   "metadata": {},
   "outputs": [
    {
     "name": "stdout",
     "output_type": "stream",
     "text": [
      "(574, 6)\n",
      "(252, 6)\n",
      "(826, 6)\n",
      "(858, 6)\n",
      "(1684, 6)\n",
      "(751, 6)\n",
      "(2435, 6)\n",
      "(618, 6)\n",
      "(3053, 6)\n",
      "(644, 6)\n",
      "(3697, 6)\n",
      "(856, 6)\n",
      "(4553, 6)\n",
      "(385, 6)\n",
      "(4938, 6)\n",
      "(406, 6)\n",
      "(5344, 6)\n",
      "(479, 6)\n",
      "(5823, 6)\n",
      "(671, 6)\n"
     ]
    }
   ],
   "source": [
    "for i in df_list:\n",
    "    print(df1.shape)\n",
    "    print(i.shape)\n",
    "    df1 = df1.append(i)"
   ]
  },
  {
   "cell_type": "code",
   "execution_count": 183,
   "metadata": {},
   "outputs": [
    {
     "data": {
      "text/html": [
       "<div>\n",
       "<style scoped>\n",
       "    .dataframe tbody tr th:only-of-type {\n",
       "        vertical-align: middle;\n",
       "    }\n",
       "\n",
       "    .dataframe tbody tr th {\n",
       "        vertical-align: top;\n",
       "    }\n",
       "\n",
       "    .dataframe thead th {\n",
       "        text-align: right;\n",
       "    }\n",
       "</style>\n",
       "<table border=\"1\" class=\"dataframe\">\n",
       "  <thead>\n",
       "    <tr style=\"text-align: right;\">\n",
       "      <th></th>\n",
       "      <th>date</th>\n",
       "      <th>time</th>\n",
       "      <th>count</th>\n",
       "      <th>bin</th>\n",
       "      <th>Location (recode)</th>\n",
       "      <th>Location-id (recode)</th>\n",
       "    </tr>\n",
       "  </thead>\n",
       "  <tbody>\n",
       "    <tr>\n",
       "      <th>0</th>\n",
       "      <td>27</td>\n",
       "      <td>0:09:51</td>\n",
       "      <td>1</td>\n",
       "      <td>1</td>\n",
       "      <td>SIS B1 IS Lounge</td>\n",
       "      <td>SISB1</td>\n",
       "    </tr>\n",
       "    <tr>\n",
       "      <th>1</th>\n",
       "      <td>27</td>\n",
       "      <td>0:12:13</td>\n",
       "      <td>2</td>\n",
       "      <td>2</td>\n",
       "      <td>SIS B1 IS Lounge</td>\n",
       "      <td>SISB1</td>\n",
       "    </tr>\n",
       "    <tr>\n",
       "      <th>2</th>\n",
       "      <td>27</td>\n",
       "      <td>0:14:34</td>\n",
       "      <td>3</td>\n",
       "      <td>2</td>\n",
       "      <td>SIS B1 IS Lounge</td>\n",
       "      <td>SISB1</td>\n",
       "    </tr>\n",
       "    <tr>\n",
       "      <th>3</th>\n",
       "      <td>27</td>\n",
       "      <td>0:16:56</td>\n",
       "      <td>1</td>\n",
       "      <td>2</td>\n",
       "      <td>SIS B1 IS Lounge</td>\n",
       "      <td>SISB1</td>\n",
       "    </tr>\n",
       "    <tr>\n",
       "      <th>4</th>\n",
       "      <td>27</td>\n",
       "      <td>0:19:17</td>\n",
       "      <td>1</td>\n",
       "      <td>2</td>\n",
       "      <td>SIS B1 IS Lounge</td>\n",
       "      <td>SISB1</td>\n",
       "    </tr>\n",
       "    <tr>\n",
       "      <th>...</th>\n",
       "      <td>...</td>\n",
       "      <td>...</td>\n",
       "      <td>...</td>\n",
       "      <td>...</td>\n",
       "      <td>...</td>\n",
       "      <td>...</td>\n",
       "    </tr>\n",
       "    <tr>\n",
       "      <th>666</th>\n",
       "      <td>27</td>\n",
       "      <td>23:49:56</td>\n",
       "      <td>3</td>\n",
       "      <td>143</td>\n",
       "      <td>SIS L5 End of Office Stretch</td>\n",
       "      <td>SISL5</td>\n",
       "    </tr>\n",
       "    <tr>\n",
       "      <th>667</th>\n",
       "      <td>27</td>\n",
       "      <td>23:52:02</td>\n",
       "      <td>3</td>\n",
       "      <td>144</td>\n",
       "      <td>SIS L5 End of Office Stretch</td>\n",
       "      <td>SISL5</td>\n",
       "    </tr>\n",
       "    <tr>\n",
       "      <th>668</th>\n",
       "      <td>27</td>\n",
       "      <td>23:54:08</td>\n",
       "      <td>3</td>\n",
       "      <td>144</td>\n",
       "      <td>SIS L5 End of Office Stretch</td>\n",
       "      <td>SISL5</td>\n",
       "    </tr>\n",
       "    <tr>\n",
       "      <th>669</th>\n",
       "      <td>27</td>\n",
       "      <td>23:56:14</td>\n",
       "      <td>3</td>\n",
       "      <td>144</td>\n",
       "      <td>SIS L5 End of Office Stretch</td>\n",
       "      <td>SISL5</td>\n",
       "    </tr>\n",
       "    <tr>\n",
       "      <th>670</th>\n",
       "      <td>27</td>\n",
       "      <td>23:58:19</td>\n",
       "      <td>2</td>\n",
       "      <td>144</td>\n",
       "      <td>SIS L5 End of Office Stretch</td>\n",
       "      <td>SISL5</td>\n",
       "    </tr>\n",
       "  </tbody>\n",
       "</table>\n",
       "<p>6494 rows × 6 columns</p>\n",
       "</div>"
      ],
      "text/plain": [
       "     date      time  count  bin             Location (recode)  \\\n",
       "0      27   0:09:51      1    1              SIS B1 IS Lounge   \n",
       "1      27   0:12:13      2    2              SIS B1 IS Lounge   \n",
       "2      27   0:14:34      3    2              SIS B1 IS Lounge   \n",
       "3      27   0:16:56      1    2              SIS B1 IS Lounge   \n",
       "4      27   0:19:17      1    2              SIS B1 IS Lounge   \n",
       "..    ...       ...    ...  ...                           ...   \n",
       "666    27  23:49:56      3  143  SIS L5 End of Office Stretch   \n",
       "667    27  23:52:02      3  144  SIS L5 End of Office Stretch   \n",
       "668    27  23:54:08      3  144  SIS L5 End of Office Stretch   \n",
       "669    27  23:56:14      3  144  SIS L5 End of Office Stretch   \n",
       "670    27  23:58:19      2  144  SIS L5 End of Office Stretch   \n",
       "\n",
       "    Location-id (recode)  \n",
       "0                  SISB1  \n",
       "1                  SISB1  \n",
       "2                  SISB1  \n",
       "3                  SISB1  \n",
       "4                  SISB1  \n",
       "..                   ...  \n",
       "666                SISL5  \n",
       "667                SISL5  \n",
       "668                SISL5  \n",
       "669                SISL5  \n",
       "670                SISL5  \n",
       "\n",
       "[6494 rows x 6 columns]"
      ]
     },
     "execution_count": 183,
     "metadata": {},
     "output_type": "execute_result"
    }
   ],
   "source": [
    "df1"
   ]
  },
  {
   "cell_type": "code",
   "execution_count": 184,
   "metadata": {},
   "outputs": [],
   "source": [
    "df1.to_csv(\"forecastmerged.csv\")"
   ]
  },
  {
   "cell_type": "code",
   "execution_count": 95,
   "metadata": {},
   "outputs": [
    {
     "data": {
      "text/plain": [
       "datetime.datetime(1900, 1, 1, 16, 30)"
      ]
     },
     "execution_count": 95,
     "metadata": {},
     "output_type": "execute_result"
    }
   ],
   "source": [
    "import datetime\n",
    "datetime_object = datetime.datetime.strptime('16:30:00', '%H:%M:%S')\n",
    "datetime_object"
   ]
  },
  {
   "cell_type": "code",
   "execution_count": 96,
   "metadata": {},
   "outputs": [],
   "source": [
    "datetime_object = datetime_object - datetime.timedelta(minutes = 10)"
   ]
  },
  {
   "cell_type": "code",
   "execution_count": 97,
   "metadata": {},
   "outputs": [
    {
     "data": {
      "text/plain": [
       "datetime.datetime(1900, 1, 1, 16, 20)"
      ]
     },
     "execution_count": 97,
     "metadata": {},
     "output_type": "execute_result"
    }
   ],
   "source": [
    "datetime_object"
   ]
  },
  {
   "cell_type": "code",
   "execution_count": 136,
   "metadata": {},
   "outputs": [
    {
     "data": {
      "text/plain": [
       "'16:20'"
      ]
     },
     "execution_count": 136,
     "metadata": {},
     "output_type": "execute_result"
    }
   ],
   "source": [
    "timestamplb = datetime_object.strftime(\"%H:%M\")\n",
    "timestamplb"
   ]
  },
  {
   "cell_type": "code",
   "execution_count": 124,
   "metadata": {},
   "outputs": [],
   "source": [
    "day_list = [\"Monday\", \"Tuesday\", \"Wednesday\", \"Thursday\", \"Friday\"]"
   ]
  },
  {
   "cell_type": "code",
   "execution_count": 132,
   "metadata": {},
   "outputs": [],
   "source": [
    "s = \"Sat\""
   ]
  },
  {
   "cell_type": "code",
   "execution_count": 134,
   "metadata": {},
   "outputs": [],
   "source": [
    "a = [a for a in day_list if s in a]"
   ]
  },
  {
   "cell_type": "code",
   "execution_count": 135,
   "metadata": {},
   "outputs": [
    {
     "data": {
      "text/plain": [
       "[]"
      ]
     },
     "execution_count": 135,
     "metadata": {},
     "output_type": "execute_result"
    }
   ],
   "source": [
    "a"
   ]
  }
 ],
 "metadata": {
  "kernelspec": {
   "display_name": "Python 3",
   "language": "python",
   "name": "python3"
  },
  "language_info": {
   "codemirror_mode": {
    "name": "ipython",
    "version": 3
   },
   "file_extension": ".py",
   "mimetype": "text/x-python",
   "name": "python",
   "nbconvert_exporter": "python",
   "pygments_lexer": "ipython3",
   "version": "3.7.5"
  }
 },
 "nbformat": 4,
 "nbformat_minor": 4
}
